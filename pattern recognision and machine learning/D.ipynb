{
 "cells": [
  {
   "cell_type": "code",
   "execution_count": 22,
   "id": "12570128-b551-48f8-84cc-03b7cf2bb421",
   "metadata": {},
   "outputs": [],
   "source": [
    "# Christos Alexopoulos(10618), Panagiotis Koutris (10671)\n",
    "import numpy as np\n",
    "import pandas as pd\n",
    "from sklearn.svm import SVC\n",
    "from sklearn.decomposition import PCA\n",
    "\n",
    "# Load training and test data\n",
    "train_data = pd.read_csv(\"/Users/chris/Desktop/ML/project/datasetTV.csv\", header=None)\n",
    "test_data = pd.read_csv(\"/Users/chris/Desktop/ML/project/datasetTest.csv\", header=None)\n",
    "\n",
    "# Split features (X) and labels (y) for training set\n",
    "X_train = train_data.iloc[:, :-1].values\n",
    "y_train = train_data.iloc[:, -1].values\n",
    "\n",
    "# Extract features for test set\n",
    "X_test = test_data.iloc[:, :].values\n",
    "\n",
    "# Apply PCA to reduce dimensions in training set\n",
    "pca = PCA(n_components=53)\n",
    "X_train_pca = pca.fit_transform(X_train)\n",
    "\n",
    "# Train SVM model\n",
    "svm = SVC(kernel='poly', class_weight={2: 2, 5: 2}, random_state=42)\n",
    "svm.fit(X_train_pca, y_train)\n",
    "\n",
    "# Transform test set using the same PCA components\n",
    "X_test_pca = pca.transform(X_test)\n",
    "\n",
    "# Predict labels for test set\n",
    "y_pred = svm.predict(X_test_pca)\n"
   ]
  },
  {
   "cell_type": "code",
   "execution_count": null,
   "id": "058dc71d-59d6-4462-9240-c823e37f51c2",
   "metadata": {},
   "outputs": [],
   "source": []
  }
 ],
 "metadata": {
  "kernelspec": {
   "display_name": "Python 3 (ipykernel)",
   "language": "python",
   "name": "python3"
  },
  "language_info": {
   "codemirror_mode": {
    "name": "ipython",
    "version": 3
   },
   "file_extension": ".py",
   "mimetype": "text/x-python",
   "name": "python",
   "nbconvert_exporter": "python",
   "pygments_lexer": "ipython3",
   "version": "3.12.7"
  }
 },
 "nbformat": 4,
 "nbformat_minor": 5
}
